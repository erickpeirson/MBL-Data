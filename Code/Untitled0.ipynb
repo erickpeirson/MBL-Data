{
 "metadata": {
  "name": "",
  "signature": "sha256:52243a641968b305e6e01cb63d29955949f6f9a7393acca01e5ecb59f2c91796"
 },
 "nbformat": 3,
 "nbformat_minor": 0,
 "worksheets": [
  {
   "cells": [
    {
     "cell_type": "code",
     "collapsed": false,
     "input": [
      "from openpyxl import load_workbook"
     ],
     "language": "python",
     "metadata": {},
     "outputs": [],
     "prompt_number": 1
    },
    {
     "cell_type": "code",
     "collapsed": false,
     "input": [],
     "language": "python",
     "metadata": {},
     "outputs": []
    }
   ],
   "metadata": {}
  }
 ]
}